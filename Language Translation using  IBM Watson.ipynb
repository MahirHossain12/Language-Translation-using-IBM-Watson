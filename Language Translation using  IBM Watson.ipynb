{
  "cells": [
    {
      "cell_type": "code",
      "execution_count": null,
      "metadata": {
        "colab": {
          "base_uri": "https://localhost:8080/"
        },
        "id": "BQOCu9t7e6-Q",
        "outputId": "ee03680f-5460-4046-b3f8-09fc9befdb11"
      },
      "outputs": [
        {
          "output_type": "stream",
          "name": "stdout",
          "text": [
            "Collecting ibm_watson\n",
            "  Downloading ibm_watson-9.0.0.tar.gz (342 kB)\n",
            "\u001b[?25l     \u001b[90m━━━━━━━━━━━━━━━━━━━━━━━━━━━━━━━━━━━━━━━━\u001b[0m \u001b[32m0.0/342.8 kB\u001b[0m \u001b[31m?\u001b[0m eta \u001b[36m-:--:--\u001b[0m\r\u001b[2K     \u001b[91m━━━━━━━━━━━━━\u001b[0m\u001b[91m╸\u001b[0m\u001b[90m━━━━━━━━━━━━━━━━━━━━━━━━━\u001b[0m \u001b[32m122.9/342.8 kB\u001b[0m \u001b[31m4.1 MB/s\u001b[0m eta \u001b[36m0:00:01\u001b[0m\r\u001b[2K     \u001b[90m━━━━━━━━━━━━━━━━━━━━━━━━━━━━━━━━━━━━━━━\u001b[0m \u001b[32m342.8/342.8 kB\u001b[0m \u001b[31m5.4 MB/s\u001b[0m eta \u001b[36m0:00:00\u001b[0m\n",
            "\u001b[?25h  Installing build dependencies ... \u001b[?25l\u001b[?25hdone\n",
            "  Getting requirements to build wheel ... \u001b[?25l\u001b[?25hdone\n",
            "  Preparing metadata (pyproject.toml) ... \u001b[?25l\u001b[?25hdone\n",
            "Requirement already satisfied: requests<3.0,>=2.0 in /usr/local/lib/python3.11/dist-packages (from ibm_watson) (2.32.3)\n",
            "Requirement already satisfied: python_dateutil>=2.5.3 in /usr/local/lib/python3.11/dist-packages (from ibm_watson) (2.9.0.post0)\n",
            "Requirement already satisfied: websocket-client>=1.1.0 in /usr/local/lib/python3.11/dist-packages (from ibm_watson) (1.8.0)\n",
            "Collecting ibm_cloud_sdk_core==3.*,>=3.3.6 (from ibm_watson)\n",
            "  Downloading ibm_cloud_sdk_core-3.24.2-py3-none-any.whl.metadata (8.7 kB)\n",
            "Collecting requests<3.0,>=2.0 (from ibm_watson)\n",
            "  Downloading requests-2.32.4-py3-none-any.whl.metadata (4.9 kB)\n",
            "Requirement already satisfied: urllib3<3.0.0,>=2.4.0 in /usr/local/lib/python3.11/dist-packages (from ibm_cloud_sdk_core==3.*,>=3.3.6->ibm_watson) (2.4.0)\n",
            "Requirement already satisfied: PyJWT<3.0.0,>=2.10.1 in /usr/local/lib/python3.11/dist-packages (from ibm_cloud_sdk_core==3.*,>=3.3.6->ibm_watson) (2.10.1)\n",
            "Requirement already satisfied: six>=1.5 in /usr/local/lib/python3.11/dist-packages (from python_dateutil>=2.5.3->ibm_watson) (1.17.0)\n",
            "Requirement already satisfied: charset_normalizer<4,>=2 in /usr/local/lib/python3.11/dist-packages (from requests<3.0,>=2.0->ibm_watson) (3.4.2)\n",
            "Requirement already satisfied: idna<4,>=2.5 in /usr/local/lib/python3.11/dist-packages (from requests<3.0,>=2.0->ibm_watson) (3.10)\n",
            "Requirement already satisfied: certifi>=2017.4.17 in /usr/local/lib/python3.11/dist-packages (from requests<3.0,>=2.0->ibm_watson) (2025.4.26)\n",
            "Downloading ibm_cloud_sdk_core-3.24.2-py3-none-any.whl (75 kB)\n",
            "\u001b[2K   \u001b[90m━━━━━━━━━━━━━━━━━━━━━━━━━━━━━━━━━━━━━━━━\u001b[0m \u001b[32m75.8/75.8 kB\u001b[0m \u001b[31m5.8 MB/s\u001b[0m eta \u001b[36m0:00:00\u001b[0m\n",
            "\u001b[?25hDownloading requests-2.32.4-py3-none-any.whl (64 kB)\n",
            "\u001b[2K   \u001b[90m━━━━━━━━━━━━━━━━━━━━━━━━━━━━━━━━━━━━━━━━\u001b[0m \u001b[32m64.8/64.8 kB\u001b[0m \u001b[31m4.9 MB/s\u001b[0m eta \u001b[36m0:00:00\u001b[0m\n",
            "\u001b[?25hBuilding wheels for collected packages: ibm_watson\n",
            "  Building wheel for ibm_watson (pyproject.toml) ... \u001b[?25l\u001b[?25hdone\n",
            "  Created wheel for ibm_watson: filename=ibm_watson-9.0.0-py3-none-any.whl size=345070 sha256=95b95e1c085616952fbdf45305503d2bbed0df317c1509a291521e95e3aea320\n",
            "  Stored in directory: /root/.cache/pip/wheels/a1/ed/65/5abe3aa86c063331a8064910b7722d22ddf0bd75fc322f6c48\n",
            "Successfully built ibm_watson\n",
            "Installing collected packages: requests, ibm_cloud_sdk_core, ibm_watson\n",
            "  Attempting uninstall: requests\n",
            "    Found existing installation: requests 2.32.3\n",
            "    Uninstalling requests-2.32.3:\n",
            "      Successfully uninstalled requests-2.32.3\n",
            "\u001b[31mERROR: pip's dependency resolver does not currently take into account all the packages that are installed. This behaviour is the source of the following dependency conflicts.\n",
            "google-colab 1.0.0 requires requests==2.32.3, but you have requests 2.32.4 which is incompatible.\u001b[0m\u001b[31m\n",
            "\u001b[0mSuccessfully installed ibm_cloud_sdk_core-3.24.2 ibm_watson-9.0.0 requests-2.32.4\n"
          ]
        }
      ],
      "source": [
        "!pip install ibm_watson"
      ]
    },
    {
      "cell_type": "code",
      "execution_count": null,
      "metadata": {
        "id": "a-CHbFNme6-V"
      },
      "outputs": [],
      "source": [
        "API_key = 'I6eCsG3fVH6k-L_4MYAbvgD_eoXk1U480UC8GezkUUcc'\n",
        "url = 'https://api.eu-gb.language-translator.watson.cloud.ibm.com/instances/209d939b-59cb-4001-a707-013244cee735'\n"
      ]
    },
    {
      "cell_type": "code",
      "execution_count": null,
      "metadata": {
        "id": "3OoEjl6Le6-W"
      },
      "outputs": [],
      "source": [
        "from ibm_watson import LanguageTranslatorV3\n",
        "\n",
        "from ibm_cloud_sdk_core.authenticators import IAMAuthenticator"
      ]
    },
    {
      "cell_type": "code",
      "execution_count": null,
      "metadata": {
        "id": "hTAf8UvFe6-W"
      },
      "outputs": [],
      "source": [
        "authenticator = IAMAuthenticator(apikey=API_key)\n",
        "langtranslator = LanguageTranslatorV3(version='2018-05-01',\n",
        "                                     authenticator=authenticator)\n",
        "langtranslator.set_service_url(url)"
      ]
    },
    {
      "cell_type": "markdown",
      "metadata": {
        "id": "ItH9nL5Ge6-Y"
      },
      "source": [
        "<table>\n",
        "            <caption>Table 1. Translatable languages</caption>\n",
        "            <thead>\n",
        "              <tr class=\"doc-tr-even\">\n",
        "                <th>Language</th>\n",
        "                <th style=\"text-align:center\">Language code</th>\n",
        "                <th>Language</th>\n",
        "                <th style=\"text-align:center\">Language code</th>\n",
        "              </tr>\n",
        "            </thead>\n",
        "            <tbody>\n",
        "              <tr class=\"doc-tr-odd\">\n",
        "                <td><a href=\"#arabic\">Arabic</a></td>\n",
        "                <td style=\"text-align:center\"><code>ar</code></td>\n",
        "                <td><a href=\"#korean\">Korean</a></td>\n",
        "                <td style=\"text-align:center\"><code>ko</code></td>\n",
        "              </tr>\n",
        "              <tr class=\"doc-tr-even\">\n",
        "                <td><a href=\"#basque\">Basque</a> <strong>[1]</strong></td>\n",
        "                <td style=\"text-align:center\"><code>eu</code></td>\n",
        "                <td><a href=\"#latvian\">Latvian</a></td>\n",
        "                <td style=\"text-align:center\"><code>lv</code></td>\n",
        "              </tr>\n",
        "              <tr class=\"doc-tr-odd\">\n",
        "                <td><a href=\"#bengali\">Bengali</a></td>\n",
        "                <td style=\"text-align:center\"><code>bn</code></td>\n",
        "                <td><a href=\"#lithuanian\">Lithuanian</a></td>\n",
        "                <td style=\"text-align:center\"><code>lt</code></td>\n",
        "              </tr>\n",
        "              <tr class=\"doc-tr-even\">\n",
        "                <td><a href=\"#bosnian\">Bosnian</a></td>\n",
        "                <td style=\"text-align:center\"><code>bs</code></td>\n",
        "                <td><a href=\"#malay\">Malay</a></td>\n",
        "                <td style=\"text-align:center\"><code>ms</code></td>\n",
        "              </tr>\n",
        "              <tr class=\"doc-tr-odd\">\n",
        "                <td><a href=\"#bulgarian\">Bulgarian</a></td>\n",
        "                <td style=\"text-align:center\"><code>bg</code></td>\n",
        "                <td><a href=\"#malayalam\">Malayalam</a></td>\n",
        "                <td style=\"text-align:center\"><code>ml</code></td>\n",
        "              </tr>\n",
        "              <tr class=\"doc-tr-even\">\n",
        "                <td><a href=\"#catalan\">Catalan</a> <strong>[1]</strong></td>\n",
        "                <td style=\"text-align:center\"><code>ca</code></td>\n",
        "                <td><a href=\"#maltese\">Maltese</a></td>\n",
        "                <td style=\"text-align:center\"><code>mt</code></td>\n",
        "              </tr>\n",
        "              <tr class=\"doc-tr-odd\">\n",
        "                <td><a href=\"#chinese-simplified\">Chinese (Simplified)</a></td>\n",
        "                <td style=\"text-align:center\"><code>zh</code></td>\n",
        "                <td><a href=\"#montenegrin\">Montenegrin</a> <strong>[2]</strong></td>\n",
        "                <td style=\"text-align:center\"><code>cnr</code></td>\n",
        "              </tr>\n",
        "              <tr class=\"doc-tr-even\">\n",
        "                <td><a href=\"#chinese-traditional\">Chinese (Traditional)</a></td>\n",
        "                <td style=\"text-align:center\"><code>zh-TW</code></td>\n",
        "                <td><a href=\"#nepali\">Nepali</a></td>\n",
        "                <td style=\"text-align:center\"><code>ne</code></td>\n",
        "              </tr>\n",
        "              <tr class=\"doc-tr-odd\">\n",
        "                <td><a href=\"#croatian\">Croatian</a></td>\n",
        "                <td style=\"text-align:center\"><code>hr</code></td>\n",
        "                <td><a href=\"#norwegian-bokmal\">Norwegian Bokmål</a></td>\n",
        "                <td style=\"text-align:center\"><code>nb</code></td>\n",
        "              </tr>\n",
        "              <tr class=\"doc-tr-even\">\n",
        "                <td><a href=\"#czech\">Czech</a></td>\n",
        "                <td style=\"text-align:center\"><code>cs</code></td>\n",
        "                <td><a href=\"#polish\">Polish</a></td>\n",
        "                <td style=\"text-align:center\"><code>pl</code></td>\n",
        "              </tr>\n",
        "              <tr class=\"doc-tr-odd\">\n",
        "                <td><a href=\"#danish\">Danish</a></td>\n",
        "                <td style=\"text-align:center\"><code>da</code></td>\n",
        "                <td><a href=\"#portuguese\">Portuguese</a></td>\n",
        "                <td style=\"text-align:center\"><code>pt</code></td>\n",
        "              </tr>\n",
        "              <tr class=\"doc-tr-even\">\n",
        "                <td><a href=\"#dutch\">Dutch</a></td>\n",
        "                <td style=\"text-align:center\"><code>nl</code></td>\n",
        "                <td><a href=\"#romanian\">Romanian</a></td>\n",
        "                <td style=\"text-align:center\"><code>ro</code></td>\n",
        "              </tr>\n",
        "              <tr class=\"doc-tr-odd\">\n",
        "                <td><a href=\"#english\">English</a></td>\n",
        "                <td style=\"text-align:center\"><code>en</code></td>\n",
        "                <td><a href=\"#russian\">Russian</a></td>\n",
        "                <td style=\"text-align:center\"><code>ru</code></td>\n",
        "              </tr>\n",
        "              <tr class=\"doc-tr-even\">\n",
        "                <td><a href=\"#estonian\">Estonian</a></td>\n",
        "                <td style=\"text-align:center\"><code>et</code></td>\n",
        "                <td><a href=\"#serbian\">Serbian</a> <strong>[3]</strong></td>\n",
        "                <td style=\"text-align:center\"><code>sr</code></td>\n",
        "              </tr>\n",
        "              <tr class=\"doc-tr-odd\">\n",
        "                <td><a href=\"#finnish\">Finnish</a></td>\n",
        "                <td style=\"text-align:center\"><code>fi</code></td>\n",
        "                <td><a href=\"#sinhala\">Sinhala</a></td>\n",
        "                <td style=\"text-align:center\"><code>si</code></td>\n",
        "              </tr>\n",
        "              <tr class=\"doc-tr-even\">\n",
        "                <td><a href=\"#french\">French</a></td>\n",
        "                <td style=\"text-align:center\"><code>fr</code></td>\n",
        "                <td><a href=\"#slovak\">Slovak</a></td>\n",
        "                <td style=\"text-align:center\"><code>sk</code></td>\n",
        "              </tr>\n",
        "              <tr class=\"doc-tr-odd\">\n",
        "                <td><a href=\"#french-canadian\">French (Canadian)</a></td>\n",
        "                <td style=\"text-align:center\"><code>fr</code></td>\n",
        "                <td><a href=\"#slovenian\">Slovenian</a></td>\n",
        "                <td style=\"text-align:center\"><code>sl</code></td>\n",
        "              </tr>\n",
        "              <tr class=\"doc-tr-even\">\n",
        "                <td><a href=\"#german\">German</a></td>\n",
        "                <td style=\"text-align:center\"><code>de</code></td>\n",
        "                <td><a href=\"#spanish\">Spanish</a></td>\n",
        "                <td style=\"text-align:center\"><code>es</code></td>\n",
        "              </tr>\n",
        "              <tr class=\"doc-tr-odd\">\n",
        "                <td><a href=\"#greek\">Greek</a></td>\n",
        "                <td style=\"text-align:center\"><code>el</code></td>\n",
        "                <td><a href=\"#swedish\">Swedish</a></td>\n",
        "                <td style=\"text-align:center\"><code>sv</code></td>\n",
        "              </tr>\n",
        "              <tr class=\"doc-tr-even\">\n",
        "                <td><a href=\"#gujarati\">Gujarati</a></td>\n",
        "                <td style=\"text-align:center\"><code>gu</code></td>\n",
        "                <td><a href=\"#tamil\">Tamil</a></td>\n",
        "                <td style=\"text-align:center\"><code>ta</code></td>\n",
        "              </tr>\n",
        "              <tr class=\"doc-tr-odd\">\n",
        "                <td><a href=\"#hebrew\">Hebrew</a></td>\n",
        "                <td style=\"text-align:center\"><code>he</code></td>\n",
        "                <td><a href=\"#telugu\">Telugu</a></td>\n",
        "                <td style=\"text-align:center\"><code>te</code></td>\n",
        "              </tr>\n",
        "              <tr class=\"doc-tr-even\">\n",
        "                <td><a href=\"#hindi\">Hindi</a></td>\n",
        "                <td style=\"text-align:center\"><code>hi</code></td>\n",
        "                <td><a href=\"#thai\">Thai</a></td>\n",
        "                <td style=\"text-align:center\"><code>th</code></td>\n",
        "              </tr>\n",
        "              <tr class=\"doc-tr-odd\">\n",
        "                <td><a href=\"#hungarian\">Hungarian</a></td>\n",
        "                <td style=\"text-align:center\"><code>hu</code></td>\n",
        "                <td><a href=\"#turkish\">Turkish</a></td>\n",
        "                <td style=\"text-align:center\"><code>tr</code></td>\n",
        "              </tr>\n",
        "              <tr class=\"doc-tr-even\">\n",
        "                <td><a href=\"#irish\">Irish</a></td>\n",
        "                <td style=\"text-align:center\"><code>ga</code></td>\n",
        "                <td><a href=\"#ukrainian\">Ukrainian</a></td>\n",
        "                <td style=\"text-align:center\"><code>uk</code></td>\n",
        "              </tr>\n",
        "              <tr class=\"doc-tr-odd\">\n",
        "                <td><a href=\"#indonesian\">Indonesian</a></td>\n",
        "                <td style=\"text-align:center\"><code>id</code></td>\n",
        "                <td><a href=\"#urdu\">Urdu</a></td>\n",
        "                <td style=\"text-align:center\"><code>ur</code></td>\n",
        "              </tr>\n",
        "              <tr class=\"doc-tr-even\">\n",
        "                <td><a href=\"#italian\">Italian</a></td>\n",
        "                <td style=\"text-align:center\"><code>it</code></td>\n",
        "                <td><a href=\"#vietnamese\">Vietnamese</a></td>\n",
        "                <td style=\"text-align:center\"><code>vi</code></td>\n",
        "              </tr>\n",
        "              <tr class=\"doc-tr-odd\">\n",
        "                <td><a href=\"#japanese\">Japanese</a></td>\n",
        "                <td style=\"text-align:center\"><code>ja</code></td>\n",
        "                <td><a href=\"#welsh\">Welsh</a></td>\n",
        "                <td style=\"text-align:center\"><code>cy</code></td>\n",
        "              </tr>\n",
        "            </tbody>\n",
        "          </table>"
      ]
    },
    {
      "cell_type": "code",
      "execution_count": null,
      "metadata": {
        "id": "-IhLAPbIe6-Z"
      },
      "outputs": [],
      "source": [
        "translation = langtranslator.translate(text='Hello World',model_id='en-hi')"
      ]
    },
    {
      "cell_type": "code",
      "execution_count": null,
      "metadata": {
        "id": "XbuZumUEe6-Z",
        "outputId": "3e75cb85-6ea9-4b8e-c562-73aa98277360"
      },
      "outputs": [
        {
          "data": {
            "text/plain": [
              "{'translations': [{'translation': 'हेलो वर्ल्ड'}],\n",
              " 'word_count': 2,\n",
              " 'character_count': 11}"
            ]
          },
          "execution_count": 7,
          "metadata": {},
          "output_type": "execute_result"
        }
      ],
      "source": [
        "translation.get_result()"
      ]
    },
    {
      "cell_type": "code",
      "execution_count": null,
      "metadata": {
        "id": "vT0SxTlwe6-Z",
        "outputId": "babc52a4-c650-412e-8af5-6a5345a1ebb9"
      },
      "outputs": [
        {
          "data": {
            "text/plain": [
              "{'translations': [{'translation': 'आधुनिक आनुवंशिकी में आम सहमति के अनुसार, शरीर रचना की दृष्टि से आधुनिक मानव पहले भारतीय उपमहाद्वीप पर अफ्रीका से 73,000 से 55,000 वर्ष पहले आ गए थे. [1] हालांकि, सबसे पहले ज्ञात मानव दक्षिण एशिया में 30,000 साल पहले की तारीख में ही रहता है. निश्चित जीवन, जिसमें खेती और पशुपालन के लिए संक्रमण से संक्रमण शामिल है, लगभग 7,000 बीसीई के आसपास दक्षिण एशिया में शुरू हुआ. मेहरगढ़ की उपस्थिति के स्थल पर गेहूं और जौ के निष्कासन का उल्लेख किया जा सकता है, इसके बाद बकरी, भेड़ और मवेशी का तेजी से पालन किया जा सकता है. [2] 4,500 ई. पू. तक, बसा हुआ जीवन व्यापक रूप से फैल गया, [2] और धीरे-धीरे सिंधु घाटी की सभ्यता, जो प्राचीन मिस्र और मेसोपोटामिया के साथ समकालीन थी, में धीरे धीरे विकसित होना शुरू हुआ. यह सभ्यता 2,500 ईसा पूर्व और 1900 ईसा पूर्व के बीच विकसित हुई, जो आज पाकिस्तान और उत्तर-पश्चिमी भारत है, और इसकी शहरी नियोजन, पकी ईंट के घरों, विस्तृत जल निकासी और पानी की आपूर्ति के लिए जाना जाता था। [3]'}],\n",
              " 'word_count': 179,\n",
              " 'character_count': 949}"
            ]
          },
          "execution_count": 8,
          "metadata": {},
          "output_type": "execute_result"
        }
      ],
      "source": [
        "text = 'According to consensus in modern genetics anatomically modern humans first arrived on the Indian subcontinent from Africa between 73,000 and 55,000 years ago.[1] However, the earliest known human remains in South Asia date to 30,000 years ago. Settled life, which involves the transition from foraging to farming and pastoralism, began in South Asia around 7,000 BCE. At the site of Mehrgarh presence can be documented of the domestication of wheat and barley, rapidly followed by that of goats, sheep, and cattle.[2] By 4,500 BCE, settled life had spread more widely,[2] and began to gradually evolve into the Indus Valley Civilization, an early civilization of the Old world, which was contemporaneous with Ancient Egypt and Mesopotamia. This civilisation flourished between 2,500 BCE and 1900 BCE in what today is Pakistan and north-western India, and was noted for its urban planning, baked brick houses, elaborate drainage, and water supply.[3]'\n",
        "translation = langtranslator.translate(text=text,model_id='en-hi')\n",
        "translation.get_result()"
      ]
    },
    {
      "cell_type": "code",
      "execution_count": null,
      "metadata": {
        "id": "oLSXWM_9e6-a",
        "outputId": "5ab5be35-5b62-4a7a-e5fe-281f7c589398"
      },
      "outputs": [
        {
          "data": {
            "text/plain": [
              "'आधुनिक आनुवंशिकी में आम सहमति के अनुसार, शरीर रचना की दृष्टि से आधुनिक मानव पहले भारतीय उपमहाद्वीप पर अफ्रीका से 73,000 से 55,000 वर्ष पहले आ गए थे. [1] हालांकि, सबसे पहले ज्ञात मानव दक्षिण एशिया में 30,000 साल पहले की तारीख में ही रहता है. निश्चित जीवन, जिसमें खेती और पशुपालन के लिए संक्रमण से संक्रमण शामिल है, लगभग 7,000 बीसीई के आसपास दक्षिण एशिया में शुरू हुआ. मेहरगढ़ की उपस्थिति के स्थल पर गेहूं और जौ के निष्कासन का उल्लेख किया जा सकता है, इसके बाद बकरी, भेड़ और मवेशी का तेजी से पालन किया जा सकता है. [2] 4,500 ई. पू. तक, बसा हुआ जीवन व्यापक रूप से फैल गया, [2] और धीरे-धीरे सिंधु घाटी की सभ्यता, जो प्राचीन मिस्र और मेसोपोटामिया के साथ समकालीन थी, में धीरे धीरे विकसित होना शुरू हुआ. यह सभ्यता 2,500 ईसा पूर्व और 1900 ईसा पूर्व के बीच विकसित हुई, जो आज पाकिस्तान और उत्तर-पश्चिमी भारत है, और इसकी शहरी नियोजन, पकी ईंट के घरों, विस्तृत जल निकासी और पानी की आपूर्ति के लिए जाना जाता था। [3]'"
            ]
          },
          "execution_count": 9,
          "metadata": {},
          "output_type": "execute_result"
        }
      ],
      "source": [
        "translation.get_result()['translations'][0]['translation']"
      ]
    },
    {
      "cell_type": "code",
      "execution_count": null,
      "metadata": {
        "id": "chnXwl8Ye6-a"
      },
      "outputs": [],
      "source": []
    }
  ],
  "metadata": {
    "kernelspec": {
      "display_name": "Python 3",
      "language": "python",
      "name": "python3"
    },
    "language_info": {
      "codemirror_mode": {
        "name": "ipython",
        "version": 3
      },
      "file_extension": ".py",
      "mimetype": "text/x-python",
      "name": "python",
      "nbconvert_exporter": "python",
      "pygments_lexer": "ipython3",
      "version": "3.9.1"
    },
    "colab": {
      "provenance": []
    }
  },
  "nbformat": 4,
  "nbformat_minor": 0
}